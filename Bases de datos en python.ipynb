{
 "cells": [
  {
   "cell_type": "markdown",
   "metadata": {},
   "source": [
    "# Python y base de datos\n",
    "\n",
    "En python, el acceso a bases de datos esta estandarizado por la especificación Database API (DB-API), actualmente en la versión 2.0 (PEP 249: Python Database API Specification v2.0)\n",
    "\n",
    "Gracias a esto, se puede acceder a cualquier base de datos utlizando la misma interfaz (ya sea un motor remoto, local, ODBC, etc.). Se puede comparar con DAO, ADO, ADO.NET en el mundo Microsoft, o a JDBC en el mundo Java.\n",
    "\n",
    "O sea, el mismo codigo se podría llegar a usar para cualquier base de datos, tomando siempre los recaudos necesarios (lenguaje SQL estándard, estilo de parametros soportado, etc.)\n",
    "\n",
    "Por ello, el manejo de bases de datos en python siempre sigue estos pasos:\n",
    "\n",
    "<li>Importar el conector</li>\n",
    "<li>Conectarse a la base de datos (función connect del módulo conector)</li>\n",
    "<li>Abrir un Cursor (método cursor de la conexión)</li>\n",
    "<li>Ejecutar una consulta (método execute del cursor)</li>\n",
    "<li>Obtener los datos (método fetch o iterar sobre el cursor)</li>\n",
    "<li>Cerrar el cursor (método close del cursor)</li>\n",
    "\n"
   ]
  },
  {
   "cell_type": "code",
   "execution_count": 11,
   "metadata": {},
   "outputs": [
    {
     "name": "stdout",
     "output_type": "stream",
     "text": [
      "Conexion Establecida...\n",
      "((4, 'switch'),)\n"
     ]
    }
   ],
   "source": [
    "# El primer paso es abrir la conexion a la base de datos\n",
    "\n",
    "import pymysql\n",
    "\n",
    "try:\n",
    "    #cadenad de conexion al servidor de la base de datos\n",
    "    db = pymysql.connect(\"localhost\",\"root\",\"\",\"automatasii\")\n",
    "    #\n",
    "\n",
    "\n",
    "    print(\"Conexion Establecida...\")\n",
    "except:\n",
    "    print(\"Conexion fallida...\")\n",
    "\n",
    "#Insertar registros en la tabla keyword\n",
    "# Crear el objeto curso\n",
    "cursor = db.cursor()\n",
    "\n",
    "# Script de la inserccion\n",
    "sql = \"Insert into keyword values (6,'end');\"\n",
    "try:\n",
    "   # Execute the SQL command\n",
    "   cursor.execute(sql)\n",
    "   # Commit your changes in the database\n",
    "   db.commit()\n",
    "    \n",
    "    \n",
    "except:\n",
    "   # Rollback in case there is any error\n",
    "   db.rollback()\n",
    "\n",
    "# desconectar del servidor\n",
    "db.close()"
   ]
  },
  {
   "cell_type": "code",
   "execution_count": 19,
   "metadata": {},
   "outputs": [
    {
     "name": "stdout",
     "output_type": "stream",
     "text": [
      "Conexion Establecida...\n",
      "clave = 2, nombre = while\n"
     ]
    }
   ],
   "source": [
    "import pymysql\n",
    "\n",
    "try:\n",
    "    #cadenad de conexion al servidor de la base de datos\n",
    "    db = pymysql.connect(\"localhost\",\"root\",\"\",\"automatasii\")\n",
    "    #\n",
    "\n",
    "\n",
    "    print(\"Conexion Establecida...\")\n",
    "except:\n",
    "    print(\"Conexion fallida...\")\n",
    "\n",
    "#Insertar registros en la tabla keyword\n",
    "# Crear el objeto curso\n",
    "cursor = db.cursor()\n",
    "\n",
    "\n",
    "#bUSCAR\n",
    "sql = \"Select * from keyword where clave=2 \"\n",
    "\n",
    "cursor.execute(sql)\n",
    "\n",
    "results = cursor.fetchall()\n",
    "for row in results:\n",
    "    clave=row[0]\n",
    "    nombre=row[1]\n",
    "    print (\"clave = {0}, nombre = {1}\".format(clave,nombre))\n",
    "\n",
    "\n",
    "# desconectar del servidor\n",
    "db.close()"
   ]
  },
  {
   "cell_type": "code",
   "execution_count": 20,
   "metadata": {},
   "outputs": [
    {
     "name": "stdout",
     "output_type": "stream",
     "text": [
      "Conexion Establecida...\n",
      "clave = 1, nombre = printf\n",
      "clave = 2, nombre = while\n",
      "clave = 4, nombre = switch\n",
      "clave = 5, nombre = if\n",
      "clave = 6, nombre = end\n"
     ]
    }
   ],
   "source": [
    "import pymysql\n",
    "\n",
    "try:\n",
    "    #cadenad de conexion al servidor de la base de datos\n",
    "    db = pymysql.connect(\"localhost\",\"root\",\"\",\"automatasii\")\n",
    "    #\n",
    "\n",
    "\n",
    "    print(\"Conexion Establecida...\")\n",
    "except:\n",
    "    print(\"Conexion fallida...\")\n",
    "\n",
    "#Insertar registros en la tabla keyword\n",
    "# Crear el objeto curso\n",
    "cursor = db.cursor()\n",
    "\n",
    "\n",
    "#bUSCAR\n",
    "sql = \"delete from keyword where clave=3 \"\n",
    "\n",
    "cursor.execute(sql)\n",
    "\n",
    "db.commit()\n",
    "\n",
    "sql = \"Select * from keyword \"\n",
    "\n",
    "cursor.execute(sql)\n",
    "\n",
    "results = cursor.fetchall()\n",
    "for row in results:\n",
    "    clave=row[0]\n",
    "    nombre=row[1]\n",
    "    print (\"clave = {0}, nombre = {1}\".format(clave,nombre))\n",
    "\n",
    "\n",
    "\n"
   ]
  },
  {
   "cell_type": "code",
   "execution_count": 17,
   "metadata": {},
   "outputs": [
    {
     "name": "stdout",
     "output_type": "stream",
     "text": [
      "Conexion Establecida...\n"
     ]
    }
   ],
   "source": [
    "import pymysql\n",
    "\n",
    "try:\n",
    "    #cadenad de conexion al servidor de la base de datos\n",
    "    db = pymysql.connect(\"localhost\",\"root\",\"\",\"automatasii\")\n",
    "    #\n",
    "\n",
    "\n",
    "    print(\"Conexion Establecida...\")\n",
    "except:\n",
    "    print(\"Conexion fallida...\")\n",
    "\n",
    "#Insertar registros en la tabla keyword\n",
    "# Crear el objeto curso\n",
    "cursor = db.cursor()\n",
    "\n",
    "\n",
    "#bUSCAR\n",
    "sql = \"update keyword set nombre='while'  where clave=2; \"\n",
    "\n",
    "cursor.execute(sql)\n",
    "db.commit()\n",
    "\n"
   ]
  },
  {
   "cell_type": "code",
   "execution_count": 21,
   "metadata": {},
   "outputs": [
    {
     "name": "stdout",
     "output_type": "stream",
     "text": [
      "Conexion Establecida...\n",
      "clave = 1, nombre = printf\n",
      "clave = 2, nombre = while\n",
      "clave = 4, nombre = switch\n",
      "clave = 5, nombre = if\n",
      "clave = 6, nombre = end\n"
     ]
    }
   ],
   "source": [
    "import pymysql\n",
    "\n",
    "try:\n",
    "    #cadenad de conexion al servidor de la base de datos\n",
    "    db = pymysql.connect(\"localhost\",\"root\",\"\",\"automatasii\")\n",
    "    #\n",
    "\n",
    "\n",
    "    print(\"Conexion Establecida...\")\n",
    "except:\n",
    "    print(\"Conexion fallida...\")\n",
    "\n",
    "#Insertar registros en la tabla keyword\n",
    "# Crear el objeto curso\n",
    "cursor = db.cursor()\n",
    "\n",
    "\n",
    "#bUSCAR\n",
    "sql = \"Select * from keyword \"\n",
    "\n",
    "cursor.execute(sql)\n",
    "\n",
    "results = cursor.fetchall()\n",
    "for row in results:\n",
    "    clave=row[0]\n",
    "    nombre=row[1]\n",
    "    print (\"clave = {0}, nombre = {1}\".format(clave,nombre))\n",
    "\n",
    "\n",
    "# desconectar del servidor\n",
    "db.close()"
   ]
  },
  {
   "cell_type": "code",
   "execution_count": null,
   "metadata": {},
   "outputs": [],
   "source": []
  }
 ],
 "metadata": {
  "kernelspec": {
   "display_name": "Python 3",
   "language": "python",
   "name": "python3"
  },
  "language_info": {
   "codemirror_mode": {
    "name": "ipython",
    "version": 3
   },
   "file_extension": ".py",
   "mimetype": "text/x-python",
   "name": "python",
   "nbconvert_exporter": "python",
   "pygments_lexer": "ipython3",
   "version": "3.7.3"
  }
 },
 "nbformat": 4,
 "nbformat_minor": 2
}
